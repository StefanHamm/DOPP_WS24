{
 "cells": [
  {
   "cell_type": "markdown",
   "metadata": {},
   "source": [
    "Getting usefull data using eurostat package"
   ]
  },
  {
   "cell_type": "code",
   "execution_count": 16,
   "metadata": {},
   "outputs": [
    {
     "name": "stdout",
     "output_type": "stream",
     "text": [
      "  freq nabs92 sectperf     unit geo\\TIME_PERIOD  1981_value 1981_flag  \\\n",
      "0    A  NBS01      BES  EUR_HAB              AT         0.0             \n",
      "1    A  NBS01      BES  EUR_HAB              CH         NaN         :   \n",
      "2    A  NBS01      BES  EUR_HAB              CZ         NaN         :   \n",
      "3    A  NBS01      BES  EUR_HAB              EE         NaN         :   \n",
      "4    A  NBS01      BES  EUR_HAB              ES         0.1             \n",
      "\n",
      "   1982_value 1982_flag  1983_value  ... 2002_value  2002_flag 2003_value  \\\n",
      "0         NaN         :         NaN  ...        NaN          :        NaN   \n",
      "1         NaN         :         NaN  ...        NaN          :        NaN   \n",
      "2         NaN         :         NaN  ...        0.1                   0.1   \n",
      "3         NaN         :         NaN  ...        0.0                   0.0   \n",
      "4         0.1                   0.1  ...        NaN          :        1.0   \n",
      "\n",
      "   2003_flag 2004_value  2004_flag 2005_value  2005_flag 2006_value  2006_flag  \n",
      "0          :        NaN          :        NaN          :        NaN          :  \n",
      "1          :        6.2                   NaN          :        NaN          :  \n",
      "2                   0.3                   0.3                   2.4             \n",
      "3                   0.0                   0.0                   0.0             \n",
      "4                   NaN          :        NaN          :        NaN          :  \n",
      "\n",
      "[5 rows x 57 columns]\n",
      "['AT' 'CH' 'CZ' 'EE' 'ES' 'EU27_2007' 'HR' 'HU' 'IE' 'IS' 'MT' 'NL' 'NO'\n",
      " 'PT' 'RO' 'RU' 'SE' 'SI' 'SK' 'EU15' 'DE' 'DK' 'IT' 'JP' 'LT' 'TR' 'UK'\n",
      " 'BE' 'EL' 'LU' 'PL' 'US' 'BG' 'CN_X_HK' 'CY' 'EA16' 'FI' 'FR' 'KR' 'LV']\n"
     ]
    }
   ],
   "source": [
    "import eurostat\n",
    "\n",
    "# Dataset \tGERD by sector of performance and socioeconomic objectives rd_e_gerdsobj92\n",
    "# sectperf: TOTAL All sectors\n",
    "# sectperf: BES Business enterprise sector\n",
    "# sectperf: GVT Government sector\n",
    "# sectperf: HES Higher education sector\n",
    "# sectperf: PNP Private non-profit sector\n",
    "\n",
    "# unit = unit of measure\n",
    "# EUR_HAB = Euro per inhabitant\n",
    "# MIO_EUR = Million Euro\n",
    "# MIO_PPS = Million Purchasing Power Standard\n",
    "# MIO_PPS_KP05 = Million Purchasing Power Standard per capita, 2005 prices\n",
    "\n",
    "# geo = country\n",
    "# EU27_2020 = European Union (27 countries)\n",
    "# EA20 = Euro area (20 countries)\n",
    "\n",
    "\n",
    "RD_EXP_BY_SECOTR = eurostat.get_data_df(\"rd_e_gerdsobj92\",True)\n",
    "print(RD_EXP_BY_SECOTR.head())\n",
    "print(RD_EXP_BY_SECOTR[\"geo\\TIME_PERIOD\"].unique())\n",
    "\n",
    "countries = RD_EXP_BY_SECOTR[\"geo\\TIME_PERIOD\"].unique()\n",
    "\n",
    "#Patent applications https://ec.europa.eu/eurostat/databrowser/view/pat_ep_ntot/default/table?lang=en&category=scitech.ipr.pat.pat_h\n",
    "PAT_APPLICATIONS = eurostat.get_data_df(\"pat_ep_ntot\",True)"
   ]
  }
 ],
 "metadata": {
  "kernelspec": {
   "display_name": "dopp_env",
   "language": "python",
   "name": "python3"
  },
  "language_info": {
   "codemirror_mode": {
    "name": "ipython",
    "version": 3
   },
   "file_extension": ".py",
   "mimetype": "text/x-python",
   "name": "python",
   "nbconvert_exporter": "python",
   "pygments_lexer": "ipython3",
   "version": "3.8.20"
  }
 },
 "nbformat": 4,
 "nbformat_minor": 2
}
